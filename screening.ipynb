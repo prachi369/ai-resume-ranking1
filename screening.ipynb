{
  "nbformat": 4,
  "nbformat_minor": 0,
  "metadata": {
    "colab": {
      "provenance": [],
      "include_colab_link": true
    },
    "kernelspec": {
      "name": "python3",
      "display_name": "Python 3"
    },
    "language_info": {
      "name": "python"
    }
  },
  "cells": [
    {
      "cell_type": "markdown",
      "metadata": {
        "id": "view-in-github",
        "colab_type": "text"
      },
      "source": [
        "<a href=\"https://colab.research.google.com/github/prachi369/ai-resume-ranking1/blob/main/screening.ipynb\" target=\"_parent\"><img src=\"https://colab.research.google.com/assets/colab-badge.svg\" alt=\"Open In Colab\"/></a>"
      ]
    },
    {
      "cell_type": "code",
      "source": [
        "!pip install streamlit\n",
        "!pip install pandas\n",
        "!pip install PyPDF2"
      ],
      "metadata": {
        "id": "xt9DcO9r5kbt"
      },
      "execution_count": null,
      "outputs": []
    },
    {
      "cell_type": "code",
      "source": [
        "import streamlit as st\n",
        "from PyPDF2 import PdfReader\n",
        "import pandas as pd\n",
        "from sklearn.feature_extraction.text import TfidfVectorizer\n",
        "from sklearn.metrics.pairwise import cosine_similarity"
      ],
      "metadata": {
        "id": "_MCJz3CvH955"
      },
      "execution_count": null,
      "outputs": []
    },
    {
      "cell_type": "code",
      "source": [
        "file = r\"C:\\Users\\user\\Desktop\\Deloitte resume.pdf\""
      ],
      "metadata": {
        "id": "hsco52UYYejh"
      },
      "execution_count": null,
      "outputs": []
    },
    {
      "cell_type": "code",
      "source": [
        "#function to extract text from pdf\n",
        "def extract_text_from_pdf(file):\n",
        "  pdf = PdfReader(file)\n",
        "  text = \"\"\n",
        "  for page in pdf.pages:\n",
        "    text += page.extract_text()\n",
        "    return text"
      ],
      "metadata": {
        "id": "1bK3Z0_3TCtH"
      },
      "execution_count": null,
      "outputs": []
    },
    {
      "cell_type": "code",
      "source": [
        "#function to rank resume based on job description\n",
        "def rank_resumes(job_description, resumes):\n",
        "  #combine job description with resumes\n",
        "  documents [job_description]+ resumes\n",
        "  vectorizer = TfidfVectorizer().fit_transform(documents)\n",
        "  vectors = vectorizer.toarray()\n",
        "\n",
        "\n",
        "\n",
        "\n",
        "  #calculate cosine similarity\n",
        "  job_description_vector = vectors[0]\n",
        "  resume_vectors = vectors[1:]\n",
        "  cosine_similarities = cosine_similarity([job_description_vector]),resume_vectors.f1\n",
        "\n",
        "  return cosine_similarities"
      ],
      "metadata": {
        "id": "rqVuNW1BIZkn"
      },
      "execution_count": null,
      "outputs": []
    },
    {
      "cell_type": "code",
      "source": [
        "# Streamlit app\n",
        "st.title(\"AI Resume Screening & candidate Ranking system\")\n",
        "#job description input\n",
        "st.header(\"job description\")\n",
        "job_description= st.text_area(\"Enter the job description\")"
      ],
      "metadata": {
        "id": "UIbkmdnBDs7v"
      },
      "execution_count": null,
      "outputs": []
    },
    {
      "cell_type": "code",
      "source": [
        "#file uploader\n",
        "st.header(\"upload resumes\")\n",
        "upload_files = st.file_uploader(\"upload PDF files\",type = [\"pdf\"],accept_multiple_files = True)"
      ],
      "metadata": {
        "id": "YdNLYUFmLlzM"
      },
      "execution_count": null,
      "outputs": []
    },
    {
      "cell_type": "code",
      "source": [
        "if upload_files and job_description:\n",
        "  st.header(\"Ranking Resumes\")\n",
        "  resumes = []\n",
        "  for file in upload_files:\n",
        "    text = extract_text_from_pdf(file)\n",
        "    resumes.append(text)\n",
        "\n",
        "    #Rank Resumes\n",
        "    scores = rank_resumes(job_descripton,resumes)\n",
        "\n",
        "    #display scores\n",
        "    results = pd.DataFrame({\"Resume\":[file.name for file in upload_files],\"Score\":score})\n",
        "    results = results.sort_values(by= \"Score\",ascending=False)\n",
        "\n",
        "    st.write(results)\n"
      ],
      "metadata": {
        "id": "ToKtFWzSM_pF"
      },
      "execution_count": null,
      "outputs": []
    },
    {
      "cell_type": "code",
      "source": [],
      "metadata": {
        "id": "wuFCOGzwQtf-"
      },
      "execution_count": null,
      "outputs": []
    }
  ]
}